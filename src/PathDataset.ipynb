{
  "nbformat": 4,
  "nbformat_minor": 0,
  "metadata": {
    "colab": {
      "provenance": []
    },
    "kernelspec": {
      "name": "python3",
      "display_name": "Python 3"
    },
    "language_info": {
      "name": "python"
    }
  },
  "cells": [
    {
      "cell_type": "markdown",
      "source": [
        "#PathDataset Creation"
      ],
      "metadata": {
        "id": "G1oikuw4edmU"
      }
    },
    {
      "cell_type": "markdown",
      "source": [
        "This code is used to turn ontologies to a mOWL dataset."
      ],
      "metadata": {
        "id": "e4Z6eX2aeMaW"
      }
    },
    {
      "cell_type": "code",
      "execution_count": null,
      "metadata": {
        "id": "PqLybuLVd1m3"
      },
      "outputs": [],
      "source": [
        "#creating a dataset, that is compatible with mOWL\n",
        "\n",
        "#necessary imports\n",
        "from mowl.datasets.base import PathDataset\n",
        "from org.semanticweb.owlapi.apibinding import OWLManager\n",
        "\n",
        "#new ontology manager\n",
        "manager = OWLManager.createOWLOntologyManager()\n",
        "\n",
        "\n",
        "#pathdataset\n",
        "\n",
        "ds = PathDataset(\n",
        "   '/content/drive/My Drive/exampleowlfile.owl' #phenotypes, gene-phenotypes, disease-phenotypes, and gene-diseases\n",
        ")\n",
        "\n",
        "\n",
        "\n",
        "#accessing the ontology using the new manager\n",
        "length_axioms = ds.ontology.getAxioms()\n",
        "\n",
        "#summary of axioms printed here\n",
        "print(f\"Number of training axioms: {len(length_axioms)}\")"
      ]
    }
  ]
}