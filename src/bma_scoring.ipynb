{
  "nbformat": 4,
  "nbformat_minor": 0,
  "metadata": {
    "colab": {
      "provenance": []
    },
    "kernelspec": {
      "name": "python3",
      "display_name": "Python 3"
    },
    "language_info": {
      "name": "python"
    }
  },
  "cells": [
    {
      "cell_type": "markdown",
      "source": [
        "#BMA-based GDA scoring"
      ],
      "metadata": {
        "id": "CBw4LRLukRPq"
      }
    },
    {
      "cell_type": "markdown",
      "source": [
        "This code is used for BMA-based score calculation. Each gene-disease pair is read, their relevant phenotypic embeddings are extracted, and cosine similarity between MP and HP is calculated. BMA is then applied as a reflection for a particular gene-disease association.\n",
        "\n",
        "Dependencies:\n",
        "numpy==1.26.4\n",
        "scipy==1.13.1"
      ],
      "metadata": {
        "id": "ffe-6LrIiYlt"
      }
    },
    {
      "cell_type": "code",
      "source": [
        "#imports needed\n",
        "\n",
        "import numpy as np\n",
        "from scipy.spatial.distance import cosine\n",
        "from tqdm import tqdm\n",
        "from itertools import product\n",
        "from multiprocessing import Pool, cpu_count"
      ],
      "metadata": {
        "id": "LQdn194TiUur"
      },
      "execution_count": null,
      "outputs": []
    },
    {
      "cell_type": "code",
      "execution_count": null,
      "metadata": {
        "id": "hKQxFYrxex9V"
      },
      "outputs": [],
      "source": [
        "#calculates BMA in two-way approach\n",
        "def calculate_best_match_average(mp_id, hp_id, mp_annotations, hp_annotations, embeddings):\n",
        "    mp_phenotypes = [p for p in mp_annotations.get(mp_id, []) if p in embeddings]\n",
        "    hp_phenotypes = [p for p in hp_annotations.get(hp_id, []) if p in embeddings]\n",
        "\n",
        "    if not mp_phenotypes or not hp_phenotypes:\n",
        "        return 0.0\n",
        "\n",
        "    # MP → HP\n",
        "    mp_to_hp_scores = []\n",
        "    for mp in mp_phenotypes:\n",
        "        mp_vec = embeddings[mp]\n",
        "        max_sim = max(1 - cosine(mp_vec, embeddings[hp]) for hp in hp_phenotypes)\n",
        "        mp_to_hp_scores.append(max_sim)\n",
        "    avg_mp_to_hp = sum(mp_to_hp_scores) / len(mp_to_hp_scores)\n",
        "\n",
        "    # HP → MP\n",
        "    hp_to_mp_scores = []\n",
        "    for hp in hp_phenotypes:\n",
        "        hp_vec = embeddings[hp]\n",
        "        max_sim = max(1 - cosine(hp_vec, embeddings[mp]) for mp in mp_phenotypes)\n",
        "        hp_to_mp_scores.append(max_sim)\n",
        "    avg_hp_to_mp = sum(hp_to_mp_scores) / len(hp_to_mp_scores)\n",
        "\n",
        "    return (avg_mp_to_hp + avg_hp_to_mp) / 2\n",
        "\n",
        "#to load embeddings\n",
        "def load_embeddings(filepath):\n",
        "    embeddings = {}\n",
        "    with open(filepath, 'r') as file:\n",
        "        for line in file:\n",
        "            if line.strip() and not line.startswith(\"Entity Embeddings:\") and line.startswith(\"http://purl.obolibrary.org/obo/\"):\n",
        "                parts = line.strip().split()\n",
        "                if len(parts) >= 2:\n",
        "                    entity_id = parts[0].split('/')[-1]\n",
        "                    try:\n",
        "                        vector = np.array([float(x) for x in parts[1:]])\n",
        "                        embeddings[entity_id] = vector\n",
        "                    except ValueError:\n",
        "                        continue\n",
        "    return embeddings\n",
        "\n",
        "#read and extract IDs from phenotype files\n",
        "def read_phenotype_file(filepath):\n",
        "    phenotypes = {}\n",
        "    with open(filepath, 'r') as file:\n",
        "        for line in file:\n",
        "            if line.strip():\n",
        "                parts = line.strip().split('\\t')\n",
        "                if len(parts) == 2:\n",
        "                    entity_id = parts[0].split('/')[-1]\n",
        "                    phenotype_id = parts[1].split('/')[-1]\n",
        "                    if entity_id not in phenotypes:\n",
        "                        phenotypes[entity_id] = []\n",
        "                    phenotypes[entity_id].append(phenotype_id)\n",
        "    return phenotypes\n",
        "\n",
        "if __name__ == \"__main__\":\n",
        "    # File paths\n",
        "    embedding_file_path = '/content/drive/My Drive/colab_output/embedding_file_example.txt'\n",
        "    gene_phenotypes_file = '/content/drive/My Drive/g_p.txt'\n",
        "    disease_phenotypes_file = '/content/drive/My Drive/d_p.txt'\n",
        "    gene_diseases_file = '/content/drive/My Drive/g_d.txt'\n",
        "\n",
        "    #embeddings and phenotype annotations loaded\n",
        "    embeddings = load_embeddings(embedding_file_path)\n",
        "    mp_annotations = read_phenotype_file(gene_phenotypes_file)\n",
        "    hp_annotations = read_phenotype_file(disease_phenotypes_file)\n",
        "\n",
        "    #reading gene-disease pairs\n",
        "    gene_diseases = []\n",
        "    with open(gene_diseases_file, 'r') as file:\n",
        "        for line in file:\n",
        "            if line.strip():\n",
        "                parts = line.strip().split('\\t')\n",
        "                if len(parts) == 2:\n",
        "                    mgi_id = parts[0].split('/')[-1]\n",
        "                    omim_id = parts[1].split('/')[-1]\n",
        "                    gene_diseases.append((mgi_id, omim_id))\n",
        "\n",
        "    #saving results o/p\n",
        "    output_best_match_bma_filepath = '/content/drive/My Drive/colab_output/scores_file_example.txt'\n",
        "\n",
        "    #processing pairs\n",
        "    def process_pair(pair):\n",
        "        mgi_id, omim_id = pair\n",
        "        return (f\"MGI:{mgi_id} ↔ OMIM:{omim_id}\", calculate_best_match_average(mgi_id, omim_id, mp_annotations, hp_annotations, embeddings))\n",
        "\n",
        "\n",
        "    all_pairs = list(product(set([pair[0] for pair in gene_diseases]), set([pair[1] for pair in gene_diseases])))\n",
        "\n",
        "    #parallelize processing\n",
        "    with Pool(processes=cpu_count()) as pool:\n",
        "        best_match_bma_results = list(tqdm(pool.imap(process_pair, all_pairs), total=len(all_pairs), desc=\"Calculating best match average BMA\"))\n",
        "\n",
        "    #descending order of score sorting\n",
        "    best_match_bma_results.sort(key=lambda x: x[1], reverse=True)\n",
        "\n",
        "    #saving\n",
        "    with open(output_best_match_bma_filepath, 'w') as file:\n",
        "        file.write(\"Gene-Disease Association\\tBMA Similarity\\n\")\n",
        "        for gene_disease_pair, bma_similarity in best_match_bma_results:\n",
        "            file.write(f\"{gene_disease_pair}\\t{bma_similarity:.4f}\\n\")\n",
        "\n",
        "    print(f\"Best match average BMA similarities for gene-disease associations saved to {output_best_match_bma_filepath}.\")"
      ]
    }
  ]
}