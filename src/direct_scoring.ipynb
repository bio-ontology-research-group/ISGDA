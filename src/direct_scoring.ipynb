{
  "nbformat": 4,
  "nbformat_minor": 0,
  "metadata": {
    "colab": {
      "provenance": []
    },
    "kernelspec": {
      "name": "python3",
      "display_name": "Python 3"
    },
    "language_info": {
      "name": "python"
    }
  },
  "cells": [
    {
      "cell_type": "markdown",
      "source": [
        "#Direct GDA scoring"
      ],
      "metadata": {
        "id": "TfCW2h_XmaCU"
      }
    },
    {
      "cell_type": "markdown",
      "source": [
        "This code is used for direct score calculation. Cosine similarity between MGI and OMIM is directly calculated.\n",
        "\n",
        "Dependencies:\n",
        "numpy==1.26.4\n",
        "scipy==1.13.1"
      ],
      "metadata": {
        "id": "ja2a4xzJmRSu"
      }
    },
    {
      "cell_type": "code",
      "source": [
        "#imports needed\n",
        "\n",
        "import numpy as np\n",
        "from scipy.spatial.distance import cosine\n",
        "from google.colab import drive\n",
        "from tqdm import tqdm"
      ],
      "metadata": {
        "id": "hXRscivimIQm"
      },
      "execution_count": null,
      "outputs": []
    },
    {
      "cell_type": "code",
      "execution_count": null,
      "metadata": {
        "id": "-XEhFdLKiULD"
      },
      "outputs": [],
      "source": [
        "#embeddings file path\n",
        "embedding_file_path = '/content/drive/My Drive/colab_output/embedding_file_example.txt'\n",
        "\n",
        "def load_embeddings(filepath):\n",
        "    embeddings = {}\n",
        "    with open(filepath, 'r') as file:\n",
        "        for line in file:\n",
        "\n",
        "            if line.strip() == \"Entity Embeddings:\" or not line.startswith(\"http://mowl.borg/\"):\n",
        "                continue\n",
        "\n",
        "            parts = line.strip().split()\n",
        "\n",
        "            if len(parts) < 2:\n",
        "                continue\n",
        "\n",
        "\n",
        "            entity_id = parts[0].split('/')[-1]\n",
        "\n",
        "\n",
        "            try:\n",
        "                vector = np.array([float(x) for x in parts[1:]])\n",
        "                embeddings[entity_id] = vector\n",
        "            except ValueError:\n",
        "                print(f\"Skipping line due to conversion error: {line}\")\n",
        "\n",
        "    return embeddings\n",
        "\n",
        "\n",
        "#loading embeddings\n",
        "embeddings = load_embeddings(embedding_file_path)\n",
        "\n",
        "#getting MGI and OMIM embeddings\n",
        "mgi_embeddings = {k: v for k, v in embeddings.items() if k.startswith(\"MGI_\")}\n",
        "omim_embeddings = {k: v for k, v in embeddings.items() if k.startswith(\"OMIM_\")}\n",
        "\n",
        "#output file for scores\n",
        "output_cosine_similarity_filepath = '/content/drive/My Drive/colab_output/scores_file_name.txt'\n",
        "\n",
        "#cosine similarity between MGI and OMIM embeddings directly\n",
        "print(\"Calculating cosine similarity between MGI and OMIM embeddings\")\n",
        "\n",
        "cosine_similarity_results = []\n",
        "\n",
        "#iterating through MGI embeddings and calculate the cosine similarity with OMIM embeddings\n",
        "for mgi_id, mgi_vector in tqdm(mgi_embeddings.items(), desc=\"Calculating MGI to OMIM cosine similarity\"):\n",
        "    for omim_id, omim_vector in omim_embeddings.items():\n",
        "\n",
        "        cosine_similarity = 1 - cosine(mgi_vector, omim_vector)\n",
        "        cosine_similarity_results.append((mgi_id, omim_id, cosine_similarity))\n",
        "\n",
        "#sorting in descending order\n",
        "cosine_similarity_results.sort(key=lambda x: x[2], reverse=True)\n",
        "\n",
        "#saving results\n",
        "with open(output_cosine_similarity_filepath, 'w') as file:\n",
        "    file.write(\"MGI Entity\\tOMIM Entity\\tCosine Similarity\\n\")\n",
        "    for mgi_id, omim_id, cosine_similarity in cosine_similarity_results:\n",
        "        file.write(f\"{mgi_id}\\t{omim_id}\\t{cosine_similarity:.4f}\\n\")\n",
        "\n",
        "print(f\"Cosine similarities for MGI-OMIM entity pairs saved to {output_cosine_similarity_filepath}.\")\n"
      ]
    }
  ]
}